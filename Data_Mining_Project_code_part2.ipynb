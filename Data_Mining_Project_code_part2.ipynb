{
  "nbformat": 4,
  "nbformat_minor": 0,
  "metadata": {
    "colab": {
      "provenance": [],
      "gpuType": "T4"
    },
    "kernelspec": {
      "name": "python3",
      "display_name": "Python 3"
    },
    "language_info": {
      "name": "python"
    },
    "accelerator": "GPU"
  },
  "cells": [
    {
      "cell_type": "code",
      "source": [
        "import pandas as pd\n",
        "import numpy as np\n",
        "import seaborn as sns\n",
        "import matplotlib as mpl\n",
        "import matplotlib.pyplot as plt\n",
        "import matplotlib.patches as patches\n",
        "from sklearn import metrics, linear_model\n",
        "from sklearn.preprocessing import LabelEncoder, OneHotEncoder\n",
        "from sklearn.model_selection import train_test_split, cross_val_score, cross_val_predict\n",
        "from sklearn.experimental import enable_hist_gradient_boosting\n",
        "from sklearn.ensemble import HistGradientBoostingClassifier\n",
        "from sklearn.preprocessing import StandardScaler\n",
        "from sklearn.model_selection import GridSearchCV\n",
        "from sklearn.metrics import accuracy_score, precision_score, recall_score, f1_score\n",
        "from imblearn.over_sampling import RandomOverSampler\n",
        "import warnings\n",
        "warnings.filterwarnings(\"ignore\")"
      ],
      "metadata": {
        "id": "_8aXgb4b7lU_"
      },
      "execution_count": 13,
      "outputs": []
    },
    {
      "cell_type": "code",
      "source": [
        "data = pd.read_csv('aug2023.csv')\n",
        "data.shape"
      ],
      "metadata": {
        "id": "3TN7pCfSLZPV",
        "colab": {
          "base_uri": "https://localhost:8080/"
        },
        "outputId": "a05492ec-c648-464d-b648-70463730d18e"
      },
      "execution_count": 2,
      "outputs": [
        {
          "output_type": "execute_result",
          "data": {
            "text/plain": [
              "(602987, 30)"
            ]
          },
          "metadata": {},
          "execution_count": 2
        }
      ]
    },
    {
      "cell_type": "code",
      "source": [
        "data2 = data.copy()"
      ],
      "metadata": {
        "id": "oVnvzwROo_AN"
      },
      "execution_count": 3,
      "outputs": []
    },
    {
      "cell_type": "code",
      "source": [
        "columns_to_fill = ['CARRIER_DELAY', 'WEATHER_DELAY', 'NAS_DELAY', 'SECURITY_DELAY', 'LATE_AIRCRAFT_DELAY']\n",
        "data2[columns_to_fill] = data2[columns_to_fill].fillna(0)\n",
        "\n",
        "data2.isna().sum()"
      ],
      "metadata": {
        "colab": {
          "base_uri": "https://localhost:8080/"
        },
        "id": "BGIg0dbRo-6D",
        "outputId": "254e12ba-3e5f-400d-a536-ffe22f661882"
      },
      "execution_count": 4,
      "outputs": [
        {
          "output_type": "execute_result",
          "data": {
            "text/plain": [
              "FL_DATE                       0\n",
              "OP_UNIQUE_CARRIER             0\n",
              "OP_CARRIER_FL_NUM             0\n",
              "ORIGIN_AIRPORT_ID             0\n",
              "ORIGIN_AIRPORT_SEQ_ID         0\n",
              "ORIGIN_CITY_MARKET_ID         0\n",
              "ORIGIN                        0\n",
              "ORIGIN_CITY_NAME              0\n",
              "ORIGIN_STATE_ABR              0\n",
              "DEST_AIRPORT_ID               0\n",
              "DEST_AIRPORT_SEQ_ID           0\n",
              "DEST_CITY_MARKET_ID           0\n",
              "DEST                          0\n",
              "DEST_CITY_NAME                0\n",
              "DEST_STATE_ABR                0\n",
              "DEP_TIME                   8883\n",
              "DEP_DELAY                  8886\n",
              "DEP_DEL15                  8886\n",
              "ARR_TIME                   9272\n",
              "ARR_DELAY                 10845\n",
              "ARR_DEL15                 10845\n",
              "CANCELLED                     0\n",
              "CANCELLATION_CODE        593815\n",
              "DIVERTED                      0\n",
              "FLIGHTS                       0\n",
              "CARRIER_DELAY                 0\n",
              "WEATHER_DELAY                 0\n",
              "NAS_DELAY                     0\n",
              "SECURITY_DELAY                0\n",
              "LATE_AIRCRAFT_DELAY           0\n",
              "dtype: int64"
            ]
          },
          "metadata": {},
          "execution_count": 4
        }
      ]
    },
    {
      "cell_type": "code",
      "source": [
        "# convert the column to datetime\n",
        "data2['FL_DATE'] = pd.to_datetime(data2['FL_DATE'])\n",
        "\n",
        "# extract month and year\n",
        "data2['FL_DATE_month'] = pd.to_datetime(data2['FL_DATE']).dt.month\n",
        "data2['FL_DATE_year'] = pd.to_datetime(data2['FL_DATE']).dt.year\n"
      ],
      "metadata": {
        "id": "4cdS84YyGPKV"
      },
      "execution_count": 5,
      "outputs": []
    },
    {
      "cell_type": "code",
      "source": [
        "data2.info()"
      ],
      "metadata": {
        "colab": {
          "base_uri": "https://localhost:8080/"
        },
        "id": "EjO2m9RCrkt-",
        "outputId": "7615654e-ea3b-4ce1-bba7-c5d26c53bd48"
      },
      "execution_count": 11,
      "outputs": [
        {
          "output_type": "stream",
          "name": "stdout",
          "text": [
            "<class 'pandas.core.frame.DataFrame'>\n",
            "RangeIndex: 602987 entries, 0 to 602986\n",
            "Data columns (total 32 columns):\n",
            " #   Column                 Non-Null Count   Dtype         \n",
            "---  ------                 --------------   -----         \n",
            " 0   FL_DATE                602987 non-null  datetime64[ns]\n",
            " 1   OP_UNIQUE_CARRIER      602987 non-null  object        \n",
            " 2   OP_CARRIER_FL_NUM      602987 non-null  int64         \n",
            " 3   ORIGIN_AIRPORT_ID      602987 non-null  int64         \n",
            " 4   ORIGIN_AIRPORT_SEQ_ID  602987 non-null  int64         \n",
            " 5   ORIGIN_CITY_MARKET_ID  602987 non-null  int64         \n",
            " 6   ORIGIN                 602987 non-null  object        \n",
            " 7   ORIGIN_CITY_NAME       602987 non-null  object        \n",
            " 8   ORIGIN_STATE_ABR       602987 non-null  object        \n",
            " 9   DEST_AIRPORT_ID        602987 non-null  int64         \n",
            " 10  DEST_AIRPORT_SEQ_ID    602987 non-null  int64         \n",
            " 11  DEST_CITY_MARKET_ID    602987 non-null  int64         \n",
            " 12  DEST                   602987 non-null  object        \n",
            " 13  DEST_CITY_NAME         602987 non-null  object        \n",
            " 14  DEST_STATE_ABR         602987 non-null  object        \n",
            " 15  DEP_TIME               594104 non-null  float64       \n",
            " 16  DEP_DELAY              594101 non-null  float64       \n",
            " 17  DEP_DEL15              594101 non-null  float64       \n",
            " 18  ARR_TIME               593715 non-null  float64       \n",
            " 19  ARR_DELAY              592142 non-null  float64       \n",
            " 20  ARR_DEL15              592142 non-null  float64       \n",
            " 21  CANCELLED              602987 non-null  float64       \n",
            " 22  CANCELLATION_CODE      9172 non-null    object        \n",
            " 23  DIVERTED               602987 non-null  float64       \n",
            " 24  FLIGHTS                602987 non-null  float64       \n",
            " 25  CARRIER_DELAY          602987 non-null  float64       \n",
            " 26  WEATHER_DELAY          602987 non-null  float64       \n",
            " 27  NAS_DELAY              602987 non-null  float64       \n",
            " 28  SECURITY_DELAY         602987 non-null  float64       \n",
            " 29  LATE_AIRCRAFT_DELAY    602987 non-null  float64       \n",
            " 30  FL_DATE_month          602987 non-null  int64         \n",
            " 31  FL_DATE_year           602987 non-null  int64         \n",
            "dtypes: datetime64[ns](1), float64(14), int64(9), object(8)\n",
            "memory usage: 147.2+ MB\n"
          ]
        }
      ]
    },
    {
      "cell_type": "code",
      "source": [
        "cols = [\"FL_DATE_month\", \"OP_UNIQUE_CARRIER\",\n",
        "          \"ORIGIN\",\n",
        "          \"DEST\",\n",
        "          \"DEP_TIME\",\n",
        "          \"DEP_DELAY\",\n",
        "          \"DEP_DEL15\",\n",
        "          \"ARR_TIME\",\n",
        "          \"ARR_DEL15\", \"CANCELLED\"]\n",
        "model_data = data2[cols].copy()"
      ],
      "metadata": {
        "id": "JbiwOHFVo-1k"
      },
      "execution_count": 6,
      "outputs": []
    },
    {
      "cell_type": "code",
      "source": [
        "labelEncoder = LabelEncoder()\n",
        "model_data[\"ORIGIN\"] = labelEncoder.fit_transform(model_data[\"ORIGIN\"])\n",
        "model_data[\"DEST\"] = labelEncoder.fit_transform(model_data[\"DEST\"])\n",
        "model_data[\"OP_UNIQUE_CARRIER\"] = labelEncoder.fit_transform(model_data[\"OP_UNIQUE_CARRIER\"])"
      ],
      "metadata": {
        "id": "kJEGHsA6o-tV"
      },
      "execution_count": 7,
      "outputs": []
    },
    {
      "cell_type": "code",
      "source": [
        "features = model_data.drop(\"CANCELLED\", axis=1)\n",
        "labels = np.asarray(model_data[\"CANCELLED\"])"
      ],
      "metadata": {
        "id": "6azv2CXQo-rE"
      },
      "execution_count": 8,
      "outputs": []
    },
    {
      "cell_type": "code",
      "source": [
        "\n",
        "X_train, X_test, y_train, y_test = train_test_split(features, labels, test_size=0.2, random_state=42)\n"
      ],
      "metadata": {
        "id": "IhZcM6HKo-lu"
      },
      "execution_count": 9,
      "outputs": []
    },
    {
      "cell_type": "markdown",
      "source": [
        "#Cancelled Analysis"
      ],
      "metadata": {
        "id": "vP74Ig0c3kze"
      }
    },
    {
      "cell_type": "code",
      "source": [
        "# sampling the dataset for minority class\n",
        "oversampler = RandomOverSampler(sampling_strategy='auto', random_state=42)\n",
        "\n",
        "X_train_resampled, y_train_resampled = oversampler.fit_resample(X_train, y_train)\n",
        "\n",
        "scaler = StandardScaler()\n",
        "X_train_resampled = scaler.fit_transform(X_train_resampled)\n",
        "X_test = scaler.transform(X_test)"
      ],
      "metadata": {
        "id": "oMP05f_nSvAX"
      },
      "execution_count": 14,
      "outputs": []
    },
    {
      "cell_type": "code",
      "source": [
        "\n",
        "\n",
        "def evaluate_model(model, X, y):\n",
        "    y_pred = model.predict(X)\n",
        "    accuracy = accuracy_score(y, y_pred)\n",
        "    precision = precision_score(y, y_pred, average='weighted')\n",
        "    recall = recall_score(y, y_pred, average='weighted')\n",
        "    f1 = f1_score(y, y_pred, average='weighted')\n",
        "    return accuracy, precision, recall, f1"
      ],
      "metadata": {
        "id": "DtUvDMZdo-gl"
      },
      "execution_count": 15,
      "outputs": []
    },
    {
      "cell_type": "code",
      "source": [
        "# ANN\n",
        "from tensorflow.keras.models import Sequential\n",
        "from tensorflow.keras.layers import Dense\n",
        "\n",
        "model = Sequential()\n",
        "model.add(Dense(64, input_dim=X_train.shape[1], activation='relu'))\n",
        "model.add(Dense(32, activation='relu'))\n",
        "model.add(Dense(1, activation='sigmoid'))\n",
        "\n",
        "model.compile(optimizer='adam', loss='binary_crossentropy', metrics=['accuracy'])\n",
        "\n",
        "model.fit(X_train_resampled, y_train_resampled, epochs=10, batch_size=32, validation_split=0.2)\n",
        "\n",
        "y_pred = model.predict(X_test)\n",
        "y_pred_binary = [1 if pred >= 0.5 else 0 for pred in y_pred]\n",
        "\n",
        "accuracy = accuracy_score(y_test, y_pred_binary)\n",
        "print(f\"Accuracy on the test set: {accuracy}\")"
      ],
      "metadata": {
        "id": "oLSXzJS8Su9F",
        "colab": {
          "base_uri": "https://localhost:8080/"
        },
        "outputId": "72a8a49c-29ab-470a-e31c-3702822cbdbc"
      },
      "execution_count": 12,
      "outputs": [
        {
          "output_type": "stream",
          "name": "stdout",
          "text": [
            "Epoch 1/10\n",
            "23753/23753 [==============================] - 105s 4ms/step - loss: nan - accuracy: 0.6250 - val_loss: nan - val_accuracy: 0.0000e+00\n",
            "Epoch 2/10\n",
            "23753/23753 [==============================] - 99s 4ms/step - loss: nan - accuracy: 0.6250 - val_loss: nan - val_accuracy: 0.0000e+00\n",
            "Epoch 3/10\n",
            "23753/23753 [==============================] - 98s 4ms/step - loss: nan - accuracy: 0.6250 - val_loss: nan - val_accuracy: 0.0000e+00\n",
            "Epoch 4/10\n",
            "23753/23753 [==============================] - 106s 4ms/step - loss: nan - accuracy: 0.6250 - val_loss: nan - val_accuracy: 0.0000e+00\n",
            "Epoch 5/10\n",
            "23753/23753 [==============================] - 107s 4ms/step - loss: nan - accuracy: 0.6250 - val_loss: nan - val_accuracy: 0.0000e+00\n",
            "Epoch 6/10\n",
            "23753/23753 [==============================] - 107s 4ms/step - loss: nan - accuracy: 0.6250 - val_loss: nan - val_accuracy: 0.0000e+00\n",
            "Epoch 7/10\n",
            "23753/23753 [==============================] - 96s 4ms/step - loss: nan - accuracy: 0.6250 - val_loss: nan - val_accuracy: 0.0000e+00\n",
            "Epoch 8/10\n",
            "23753/23753 [==============================] - 111s 5ms/step - loss: nan - accuracy: 0.6250 - val_loss: nan - val_accuracy: 0.0000e+00\n",
            "Epoch 9/10\n",
            "23753/23753 [==============================] - 97s 4ms/step - loss: nan - accuracy: 0.6250 - val_loss: nan - val_accuracy: 0.0000e+00\n",
            "Epoch 10/10\n",
            "23753/23753 [==============================] - 122s 5ms/step - loss: nan - accuracy: 0.6250 - val_loss: nan - val_accuracy: 0.0000e+00\n",
            "3769/3769 [==============================] - 6s 2ms/step\n",
            "Accuracy on the test set: 0.9848256189986567\n"
          ]
        }
      ]
    },
    {
      "cell_type": "code",
      "source": [
        "# histogram-based gradient boosting\n",
        "\n",
        "parameters = {\n",
        "    'learning_rate': [0.01, 0.1, 0.2],\n",
        "    'max_depth': [3, 5, 7],\n",
        "    'min_samples_leaf': [1, 2, 4],\n",
        "    'max_iter': [5, 10, 20],\n",
        "}\n",
        "\n",
        "gb = HistGradientBoostingClassifier()\n",
        "grid_search = GridSearchCV(gb, parameters, cv=3, error_score='raise')\n",
        "grid_search.fit(X_train_resampled, y_train_resampled)\n",
        "\n",
        "best_gb = grid_search.best_estimator_\n",
        "best_gb"
      ],
      "metadata": {
        "id": "Ha5irdRSSu3c",
        "colab": {
          "base_uri": "https://localhost:8080/",
          "height": 92
        },
        "outputId": "e26246f8-3a7a-4068-aee5-9b41b33c484d"
      },
      "execution_count": 16,
      "outputs": [
        {
          "output_type": "execute_result",
          "data": {
            "text/plain": [
              "HistGradientBoostingClassifier(learning_rate=0.2, max_depth=7, max_iter=20,\n",
              "                               min_samples_leaf=1)"
            ],
            "text/html": [
              "<style>#sk-container-id-1 {color: black;background-color: white;}#sk-container-id-1 pre{padding: 0;}#sk-container-id-1 div.sk-toggleable {background-color: white;}#sk-container-id-1 label.sk-toggleable__label {cursor: pointer;display: block;width: 100%;margin-bottom: 0;padding: 0.3em;box-sizing: border-box;text-align: center;}#sk-container-id-1 label.sk-toggleable__label-arrow:before {content: \"▸\";float: left;margin-right: 0.25em;color: #696969;}#sk-container-id-1 label.sk-toggleable__label-arrow:hover:before {color: black;}#sk-container-id-1 div.sk-estimator:hover label.sk-toggleable__label-arrow:before {color: black;}#sk-container-id-1 div.sk-toggleable__content {max-height: 0;max-width: 0;overflow: hidden;text-align: left;background-color: #f0f8ff;}#sk-container-id-1 div.sk-toggleable__content pre {margin: 0.2em;color: black;border-radius: 0.25em;background-color: #f0f8ff;}#sk-container-id-1 input.sk-toggleable__control:checked~div.sk-toggleable__content {max-height: 200px;max-width: 100%;overflow: auto;}#sk-container-id-1 input.sk-toggleable__control:checked~label.sk-toggleable__label-arrow:before {content: \"▾\";}#sk-container-id-1 div.sk-estimator input.sk-toggleable__control:checked~label.sk-toggleable__label {background-color: #d4ebff;}#sk-container-id-1 div.sk-label input.sk-toggleable__control:checked~label.sk-toggleable__label {background-color: #d4ebff;}#sk-container-id-1 input.sk-hidden--visually {border: 0;clip: rect(1px 1px 1px 1px);clip: rect(1px, 1px, 1px, 1px);height: 1px;margin: -1px;overflow: hidden;padding: 0;position: absolute;width: 1px;}#sk-container-id-1 div.sk-estimator {font-family: monospace;background-color: #f0f8ff;border: 1px dotted black;border-radius: 0.25em;box-sizing: border-box;margin-bottom: 0.5em;}#sk-container-id-1 div.sk-estimator:hover {background-color: #d4ebff;}#sk-container-id-1 div.sk-parallel-item::after {content: \"\";width: 100%;border-bottom: 1px solid gray;flex-grow: 1;}#sk-container-id-1 div.sk-label:hover label.sk-toggleable__label {background-color: #d4ebff;}#sk-container-id-1 div.sk-serial::before {content: \"\";position: absolute;border-left: 1px solid gray;box-sizing: border-box;top: 0;bottom: 0;left: 50%;z-index: 0;}#sk-container-id-1 div.sk-serial {display: flex;flex-direction: column;align-items: center;background-color: white;padding-right: 0.2em;padding-left: 0.2em;position: relative;}#sk-container-id-1 div.sk-item {position: relative;z-index: 1;}#sk-container-id-1 div.sk-parallel {display: flex;align-items: stretch;justify-content: center;background-color: white;position: relative;}#sk-container-id-1 div.sk-item::before, #sk-container-id-1 div.sk-parallel-item::before {content: \"\";position: absolute;border-left: 1px solid gray;box-sizing: border-box;top: 0;bottom: 0;left: 50%;z-index: -1;}#sk-container-id-1 div.sk-parallel-item {display: flex;flex-direction: column;z-index: 1;position: relative;background-color: white;}#sk-container-id-1 div.sk-parallel-item:first-child::after {align-self: flex-end;width: 50%;}#sk-container-id-1 div.sk-parallel-item:last-child::after {align-self: flex-start;width: 50%;}#sk-container-id-1 div.sk-parallel-item:only-child::after {width: 0;}#sk-container-id-1 div.sk-dashed-wrapped {border: 1px dashed gray;margin: 0 0.4em 0.5em 0.4em;box-sizing: border-box;padding-bottom: 0.4em;background-color: white;}#sk-container-id-1 div.sk-label label {font-family: monospace;font-weight: bold;display: inline-block;line-height: 1.2em;}#sk-container-id-1 div.sk-label-container {text-align: center;}#sk-container-id-1 div.sk-container {/* jupyter's `normalize.less` sets `[hidden] { display: none; }` but bootstrap.min.css set `[hidden] { display: none !important; }` so we also need the `!important` here to be able to override the default hidden behavior on the sphinx rendered scikit-learn.org. See: https://github.com/scikit-learn/scikit-learn/issues/21755 */display: inline-block !important;position: relative;}#sk-container-id-1 div.sk-text-repr-fallback {display: none;}</style><div id=\"sk-container-id-1\" class=\"sk-top-container\"><div class=\"sk-text-repr-fallback\"><pre>HistGradientBoostingClassifier(learning_rate=0.2, max_depth=7, max_iter=20,\n",
              "                               min_samples_leaf=1)</pre><b>In a Jupyter environment, please rerun this cell to show the HTML representation or trust the notebook. <br />On GitHub, the HTML representation is unable to render, please try loading this page with nbviewer.org.</b></div><div class=\"sk-container\" hidden><div class=\"sk-item\"><div class=\"sk-estimator sk-toggleable\"><input class=\"sk-toggleable__control sk-hidden--visually\" id=\"sk-estimator-id-1\" type=\"checkbox\" checked><label for=\"sk-estimator-id-1\" class=\"sk-toggleable__label sk-toggleable__label-arrow\">HistGradientBoostingClassifier</label><div class=\"sk-toggleable__content\"><pre>HistGradientBoostingClassifier(learning_rate=0.2, max_depth=7, max_iter=20,\n",
              "                               min_samples_leaf=1)</pre></div></div></div></div></div>"
            ]
          },
          "metadata": {},
          "execution_count": 16
        }
      ]
    },
    {
      "cell_type": "code",
      "source": [
        "accuracy_train, precision_train, recall_train, f1_train = evaluate_model(best_gb, X_train_resampled, y_train_resampled)\n",
        "print(f\"Accuracy for the training data: {accuracy_train}\")\n",
        "print(f\"Precision for the training data: {precision_train}\")\n",
        "print(f\"recall for the training data: {recall_train}\")\n",
        "print(f\"f1-score for the training data: {recall_train}\")"
      ],
      "metadata": {
        "id": "XY7n2pnOSu0o",
        "colab": {
          "base_uri": "https://localhost:8080/"
        },
        "outputId": "43aab100-15e2-4450-c01a-a29eac392e6b"
      },
      "execution_count": 17,
      "outputs": [
        {
          "output_type": "stream",
          "name": "stdout",
          "text": [
            "Accuracy for the training data: 0.9999768443964492\n",
            "Precision for the training data: 0.9999768454687635\n",
            "recall for the training data: 0.9999768443964492\n",
            "f1-score for the training data: 0.9999768443964492\n"
          ]
        }
      ]
    },
    {
      "cell_type": "code",
      "source": [
        "accuracy_test, precision_test, recall_test, f1_test = evaluate_model(best_gb, X_test, y_test)\n",
        "print(f\"Accuracy for the test data: {accuracy_test}\")\n",
        "print(f\"Precision for the test data: {precision_test}\")\n",
        "print(f\"recall for the test data: {recall_test}\")\n",
        "print(f\"f1-score for the test data: {f1_test}\")"
      ],
      "metadata": {
        "id": "BJF9sc2gSuxq",
        "colab": {
          "base_uri": "https://localhost:8080/"
        },
        "outputId": "1891c9f8-9401-4fc0-e842-09f7a7512821"
      },
      "execution_count": 18,
      "outputs": [
        {
          "output_type": "stream",
          "name": "stdout",
          "text": [
            "Accuracy for the test data: 0.9994693112655267\n",
            "Precision for the test data: 0.9994695970814602\n",
            "recall for the test data: 0.9994693112655267\n",
            "f1-score for the test data: 0.9994646602583612\n"
          ]
        }
      ]
    },
    {
      "cell_type": "markdown",
      "source": [
        "#Delay Analysis"
      ],
      "metadata": {
        "id": "0l0rSRay3pSJ"
      }
    },
    {
      "cell_type": "code",
      "source": [
        "cols = [\"FL_DATE_month\", \"OP_UNIQUE_CARRIER\",\n",
        "          \"ORIGIN\",\n",
        "          \"DEST\",\n",
        "          \"DEP_TIME\",\n",
        "          \"DEP_DELAY\",\n",
        "          \"DEP_DEL15\",\n",
        "          \"ARR_TIME\",\n",
        "          \"ARR_DEL15\"]\n",
        "model_data = data2[cols].copy()\n",
        "\n",
        "model_data = model_data.dropna()\n",
        "\n",
        "labelEncoder = LabelEncoder()\n",
        "model_data[\"ORIGIN\"] = labelEncoder.fit_transform(model_data[\"ORIGIN\"])\n",
        "model_data[\"DEST\"] = labelEncoder.fit_transform(model_data[\"DEST\"])\n",
        "model_data[\"OP_UNIQUE_CARRIER\"] = labelEncoder.fit_transform(model_data[\"OP_UNIQUE_CARRIER\"])\n",
        "\n",
        "features = model_data.drop(\"ARR_DEL15\", axis=1)\n",
        "labels = np.asarray(model_data[\"ARR_DEL15\"])"
      ],
      "metadata": {
        "id": "KqKAQP9ptSmW"
      },
      "execution_count": 20,
      "outputs": []
    },
    {
      "cell_type": "code",
      "source": [
        "X_train, X_test, y_train, y_test = train_test_split(features, labels, test_size=0.2, random_state=42)"
      ],
      "metadata": {
        "id": "XQU_fpl2tShz"
      },
      "execution_count": 21,
      "outputs": []
    },
    {
      "cell_type": "code",
      "source": [
        "scaler = StandardScaler()\n",
        "X_train = scaler.fit_transform(X_train)\n",
        "X_test = scaler.transform(X_test)"
      ],
      "metadata": {
        "id": "-5T8nAAutSfr"
      },
      "execution_count": 22,
      "outputs": []
    },
    {
      "cell_type": "code",
      "source": [
        "def evaluate_model(model, X, y):\n",
        "    y_pred = model.predict(X)\n",
        "    accuracy = accuracy_score(y, y_pred)\n",
        "    precision = precision_score(y, y_pred, average='weighted')\n",
        "    recall = recall_score(y, y_pred, average='weighted')\n",
        "    f1 = f1_score(y, y_pred, average='weighted')\n",
        "    return accuracy, precision, recall, f1\n",
        "\n",
        "\n",
        "# histogram-based gradient boosting\n",
        "parameters = {\n",
        "    'learning_rate': [0.01, 0.1, 0.2],\n",
        "    'max_depth': [3, 5, 7],\n",
        "    'min_samples_leaf': [1, 2, 4],\n",
        "    'max_iter': [5, 10, 20],\n",
        "}\n",
        "\n",
        "gb = HistGradientBoostingClassifier()\n",
        "grid_search = GridSearchCV(gb, parameters, cv=3, error_score='raise')\n",
        "grid_search.fit(X_train, y_train)\n",
        "\n",
        "best_gb = grid_search.best_estimator_\n",
        "\n",
        "best_gb"
      ],
      "metadata": {
        "colab": {
          "base_uri": "https://localhost:8080/",
          "height": 92
        },
        "id": "MD5nQnpOtSdN",
        "outputId": "f29ccc17-ef7a-4d1b-ff15-7cebaf9c5104"
      },
      "execution_count": 23,
      "outputs": [
        {
          "output_type": "execute_result",
          "data": {
            "text/plain": [
              "HistGradientBoostingClassifier(learning_rate=0.2, max_depth=7, max_iter=20,\n",
              "                               min_samples_leaf=1)"
            ],
            "text/html": [
              "<style>#sk-container-id-1 {color: black;background-color: white;}#sk-container-id-1 pre{padding: 0;}#sk-container-id-1 div.sk-toggleable {background-color: white;}#sk-container-id-1 label.sk-toggleable__label {cursor: pointer;display: block;width: 100%;margin-bottom: 0;padding: 0.3em;box-sizing: border-box;text-align: center;}#sk-container-id-1 label.sk-toggleable__label-arrow:before {content: \"▸\";float: left;margin-right: 0.25em;color: #696969;}#sk-container-id-1 label.sk-toggleable__label-arrow:hover:before {color: black;}#sk-container-id-1 div.sk-estimator:hover label.sk-toggleable__label-arrow:before {color: black;}#sk-container-id-1 div.sk-toggleable__content {max-height: 0;max-width: 0;overflow: hidden;text-align: left;background-color: #f0f8ff;}#sk-container-id-1 div.sk-toggleable__content pre {margin: 0.2em;color: black;border-radius: 0.25em;background-color: #f0f8ff;}#sk-container-id-1 input.sk-toggleable__control:checked~div.sk-toggleable__content {max-height: 200px;max-width: 100%;overflow: auto;}#sk-container-id-1 input.sk-toggleable__control:checked~label.sk-toggleable__label-arrow:before {content: \"▾\";}#sk-container-id-1 div.sk-estimator input.sk-toggleable__control:checked~label.sk-toggleable__label {background-color: #d4ebff;}#sk-container-id-1 div.sk-label input.sk-toggleable__control:checked~label.sk-toggleable__label {background-color: #d4ebff;}#sk-container-id-1 input.sk-hidden--visually {border: 0;clip: rect(1px 1px 1px 1px);clip: rect(1px, 1px, 1px, 1px);height: 1px;margin: -1px;overflow: hidden;padding: 0;position: absolute;width: 1px;}#sk-container-id-1 div.sk-estimator {font-family: monospace;background-color: #f0f8ff;border: 1px dotted black;border-radius: 0.25em;box-sizing: border-box;margin-bottom: 0.5em;}#sk-container-id-1 div.sk-estimator:hover {background-color: #d4ebff;}#sk-container-id-1 div.sk-parallel-item::after {content: \"\";width: 100%;border-bottom: 1px solid gray;flex-grow: 1;}#sk-container-id-1 div.sk-label:hover label.sk-toggleable__label {background-color: #d4ebff;}#sk-container-id-1 div.sk-serial::before {content: \"\";position: absolute;border-left: 1px solid gray;box-sizing: border-box;top: 0;bottom: 0;left: 50%;z-index: 0;}#sk-container-id-1 div.sk-serial {display: flex;flex-direction: column;align-items: center;background-color: white;padding-right: 0.2em;padding-left: 0.2em;position: relative;}#sk-container-id-1 div.sk-item {position: relative;z-index: 1;}#sk-container-id-1 div.sk-parallel {display: flex;align-items: stretch;justify-content: center;background-color: white;position: relative;}#sk-container-id-1 div.sk-item::before, #sk-container-id-1 div.sk-parallel-item::before {content: \"\";position: absolute;border-left: 1px solid gray;box-sizing: border-box;top: 0;bottom: 0;left: 50%;z-index: -1;}#sk-container-id-1 div.sk-parallel-item {display: flex;flex-direction: column;z-index: 1;position: relative;background-color: white;}#sk-container-id-1 div.sk-parallel-item:first-child::after {align-self: flex-end;width: 50%;}#sk-container-id-1 div.sk-parallel-item:last-child::after {align-self: flex-start;width: 50%;}#sk-container-id-1 div.sk-parallel-item:only-child::after {width: 0;}#sk-container-id-1 div.sk-dashed-wrapped {border: 1px dashed gray;margin: 0 0.4em 0.5em 0.4em;box-sizing: border-box;padding-bottom: 0.4em;background-color: white;}#sk-container-id-1 div.sk-label label {font-family: monospace;font-weight: bold;display: inline-block;line-height: 1.2em;}#sk-container-id-1 div.sk-label-container {text-align: center;}#sk-container-id-1 div.sk-container {/* jupyter's `normalize.less` sets `[hidden] { display: none; }` but bootstrap.min.css set `[hidden] { display: none !important; }` so we also need the `!important` here to be able to override the default hidden behavior on the sphinx rendered scikit-learn.org. See: https://github.com/scikit-learn/scikit-learn/issues/21755 */display: inline-block !important;position: relative;}#sk-container-id-1 div.sk-text-repr-fallback {display: none;}</style><div id=\"sk-container-id-1\" class=\"sk-top-container\"><div class=\"sk-text-repr-fallback\"><pre>HistGradientBoostingClassifier(learning_rate=0.2, max_depth=7, max_iter=20,\n",
              "                               min_samples_leaf=1)</pre><b>In a Jupyter environment, please rerun this cell to show the HTML representation or trust the notebook. <br />On GitHub, the HTML representation is unable to render, please try loading this page with nbviewer.org.</b></div><div class=\"sk-container\" hidden><div class=\"sk-item\"><div class=\"sk-estimator sk-toggleable\"><input class=\"sk-toggleable__control sk-hidden--visually\" id=\"sk-estimator-id-1\" type=\"checkbox\" checked><label for=\"sk-estimator-id-1\" class=\"sk-toggleable__label sk-toggleable__label-arrow\">HistGradientBoostingClassifier</label><div class=\"sk-toggleable__content\"><pre>HistGradientBoostingClassifier(learning_rate=0.2, max_depth=7, max_iter=20,\n",
              "                               min_samples_leaf=1)</pre></div></div></div></div></div>"
            ]
          },
          "metadata": {},
          "execution_count": 23
        }
      ]
    },
    {
      "cell_type": "code",
      "source": [
        "accuracy_train, precision_train, recall_train, f1_train = evaluate_model(best_gb, X_train, y_train)\n",
        "print(f\"Accuracy for the training data: {accuracy_train}\")\n",
        "print(f\"Precision for the training data: {precision_train}\")\n",
        "print(f\"recall for the training data: {recall_train}\")\n",
        "print(f\"f1-score for the training data: {recall_train}\")\n",
        "\n",
        "accuracy_test, precision_test, recall_test, f1_test = evaluate_model(best_gb, X_test, y_test)\n",
        "print(f\"Accuracy for the test data: {accuracy_test}\")\n",
        "print(f\"Precision for the test data: {precision_test}\")\n",
        "print(f\"recall for the test data: {recall_test}\")\n",
        "print(f\"f1-score for the test data: {f1_test}\")"
      ],
      "metadata": {
        "colab": {
          "base_uri": "https://localhost:8080/"
        },
        "id": "E1JHjoSAtSaT",
        "outputId": "628fc9d0-b53b-4d1c-bb6d-812aeab6d5b0"
      },
      "execution_count": 24,
      "outputs": [
        {
          "output_type": "stream",
          "name": "stdout",
          "text": [
            "Accuracy for the training data: 0.9310025268464239\n",
            "Precision for the training data: 0.9304116989424406\n",
            "recall for the training data: 0.9310025268464239\n",
            "f1-score for the training data: 0.9310025268464239\n",
            "Accuracy for the test data: 0.9315539268253553\n",
            "Precision for the test data: 0.9309176575269105\n",
            "recall for the test data: 0.9315539268253553\n",
            "f1-score for the test data: 0.9289328528265938\n"
          ]
        }
      ]
    },
    {
      "cell_type": "code",
      "source": [
        "# ANN\n",
        "from tensorflow.keras.models import Sequential\n",
        "from tensorflow.keras.layers import Dense\n",
        "\n",
        "model = Sequential()\n",
        "model.add(Dense(64, input_dim=X_train.shape[1], activation='relu'))\n",
        "model.add(Dense(32, activation='relu'))\n",
        "model.add(Dense(1, activation='sigmoid'))\n",
        "\n",
        "model.compile(optimizer='adam', loss='binary_crossentropy', metrics=['accuracy'])\n",
        "\n",
        "model.fit(X_train, y_train, epochs=10, batch_size=32, validation_split=0.2)\n",
        "\n",
        "y_pred = model.predict(X_test)\n",
        "y_pred_binary = [1 if pred >= 0.5 else 0 for pred in y_pred]\n",
        "\n",
        "accuracy = accuracy_score(y_test, y_pred_binary)\n",
        "print(f\"Accuracy on the test set: {accuracy}\")"
      ],
      "metadata": {
        "id": "8PzYjuziunfV",
        "colab": {
          "base_uri": "https://localhost:8080/"
        },
        "outputId": "2bf55ae3-34ba-466b-c1a0-73450fa18911"
      },
      "execution_count": 25,
      "outputs": [
        {
          "output_type": "stream",
          "name": "stdout",
          "text": [
            "Epoch 1/10\n",
            "11843/11843 [==============================] - 60s 5ms/step - loss: 0.2066 - accuracy: 0.9280 - val_loss: 0.2028 - val_accuracy: 0.9300\n",
            "Epoch 2/10\n",
            "11843/11843 [==============================] - 50s 4ms/step - loss: 0.1992 - accuracy: 0.9296 - val_loss: 0.1998 - val_accuracy: 0.9279\n",
            "Epoch 3/10\n",
            "11843/11843 [==============================] - 54s 5ms/step - loss: 0.1974 - accuracy: 0.9297 - val_loss: 0.1980 - val_accuracy: 0.9301\n",
            "Epoch 4/10\n",
            "11843/11843 [==============================] - 54s 5ms/step - loss: 0.1967 - accuracy: 0.9299 - val_loss: 0.1997 - val_accuracy: 0.9291\n",
            "Epoch 5/10\n",
            "11843/11843 [==============================] - 50s 4ms/step - loss: 0.1963 - accuracy: 0.9299 - val_loss: 0.1965 - val_accuracy: 0.9302\n",
            "Epoch 6/10\n",
            "11843/11843 [==============================] - 54s 5ms/step - loss: 0.1958 - accuracy: 0.9300 - val_loss: 0.1957 - val_accuracy: 0.9303\n",
            "Epoch 7/10\n",
            "11843/11843 [==============================] - 50s 4ms/step - loss: 0.1955 - accuracy: 0.9299 - val_loss: 0.1960 - val_accuracy: 0.9305\n",
            "Epoch 8/10\n",
            "11843/11843 [==============================] - 49s 4ms/step - loss: 0.1953 - accuracy: 0.9299 - val_loss: 0.1962 - val_accuracy: 0.9301\n",
            "Epoch 9/10\n",
            "11843/11843 [==============================] - 54s 5ms/step - loss: 0.1949 - accuracy: 0.9300 - val_loss: 0.1957 - val_accuracy: 0.9300\n",
            "Epoch 10/10\n",
            "11843/11843 [==============================] - 50s 4ms/step - loss: 0.1948 - accuracy: 0.9301 - val_loss: 0.1965 - val_accuracy: 0.9302\n",
            "3701/3701 [==============================] - 7s 2ms/step\n",
            "Accuracy on the test set: 0.9310304064038369\n"
          ]
        }
      ]
    },
    {
      "cell_type": "code",
      "source": [],
      "metadata": {
        "id": "FN09xfC2uncp"
      },
      "execution_count": null,
      "outputs": []
    },
    {
      "cell_type": "code",
      "source": [],
      "metadata": {
        "id": "huNfurIBkB9a"
      },
      "execution_count": null,
      "outputs": []
    },
    {
      "cell_type": "code",
      "source": [],
      "metadata": {
        "id": "21dnMvwaSu6P"
      },
      "execution_count": null,
      "outputs": []
    }
  ]
}